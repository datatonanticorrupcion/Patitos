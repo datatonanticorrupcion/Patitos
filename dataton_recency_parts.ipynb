{
 "cells": [
  {
   "cell_type": "markdown",
   "metadata": {},
   "source": [
    "# Estudio de Recency en demoras y duración de las sanciones.\n",
    "\n",
    "__Autores:__ Gina La Hera Fuentes, Gabriel Moyocoyani Molina Espíritu, Wayra Paz, Monserrat López \n",
    "\n",
    "En este paso posterior, se tomó el dataset limpiado previamente. Este nuevo dataset contiene una extensión de los atributos que ayudó para el estudio previo; y limpieza de variables que no se registraron adecuadamente. Por otra parte, contiene una categorización de las dependencias. Esto último para facilitar su visualización y manejo en el análisis.\n",
    "\n",
    "Con esta información en mano, se pretende evaluar la temporalidad de las sanciones a través de una pequeña aplicación del feature enginering y la comparación de dos distribuciones temporales.\n",
    "\n",
    "Para ello se requieren las siguientes librerías."
   ]
  },
  {
   "cell_type": "code",
   "execution_count": 1,
   "metadata": {},
   "outputs": [],
   "source": [
    "import numpy as np\n",
    "import matplotlib.pyplot as plt\n",
    "import pandas as pd"
   ]
  },
  {
   "cell_type": "markdown",
   "metadata": {},
   "source": [
    "y abrir el dataset previamente tratado"
   ]
  },
  {
   "cell_type": "code",
   "execution_count": 3,
   "metadata": {},
   "outputs": [
    {
     "name": "stdout",
     "output_type": "stream",
     "text": [
      "El dataset tiene 2444 muestras con 31 atributos.\n"
     ]
    },
    {
     "data": {
      "text/html": [
       "<div>\n",
       "<style scoped>\n",
       "    .dataframe tbody tr th:only-of-type {\n",
       "        vertical-align: middle;\n",
       "    }\n",
       "\n",
       "    .dataframe tbody tr th {\n",
       "        vertical-align: top;\n",
       "    }\n",
       "\n",
       "    .dataframe thead th {\n",
       "        text-align: right;\n",
       "    }\n",
       "</style>\n",
       "<table border=\"1\" class=\"dataframe\">\n",
       "  <thead>\n",
       "    <tr style=\"text-align: right;\">\n",
       "      <th></th>\n",
       "      <th>expediente</th>\n",
       "      <th>fechaderesolucin</th>\n",
       "      <th>servidorpblico</th>\n",
       "      <th>autoridad</th>\n",
       "      <th>dependencia</th>\n",
       "      <th>sancinimpuesta</th>\n",
       "      <th>inicio</th>\n",
       "      <th>fin</th>\n",
       "      <th>monto</th>\n",
       "      <th>v11</th>\n",
       "      <th>...</th>\n",
       "      <th>anio2011</th>\n",
       "      <th>anio2012</th>\n",
       "      <th>anio2013</th>\n",
       "      <th>anio2014</th>\n",
       "      <th>anio2015</th>\n",
       "      <th>anio2016</th>\n",
       "      <th>anio2017</th>\n",
       "      <th>anio2018</th>\n",
       "      <th>duracion</th>\n",
       "      <th>dependencia2</th>\n",
       "    </tr>\n",
       "  </thead>\n",
       "  <tbody>\n",
       "    <tr>\n",
       "      <th>0</th>\n",
       "      <td>000001/2018</td>\n",
       "      <td>2018-07-31</td>\n",
       "      <td>RAUL CARDOSO MONTILLA</td>\n",
       "      <td>ORGANO INTERNO DE CONTROL</td>\n",
       "      <td>INSTITUTO MEXICANO DEL PETROLEO</td>\n",
       "      <td>INHABILITACION                                ...</td>\n",
       "      <td>2018-08-02</td>\n",
       "      <td>2019-02-02</td>\n",
       "      <td>NaN</td>\n",
       "      <td>NaN</td>\n",
       "      <td>...</td>\n",
       "      <td>NaN</td>\n",
       "      <td>NaN</td>\n",
       "      <td>NaN</td>\n",
       "      <td>NaN</td>\n",
       "      <td>NaN</td>\n",
       "      <td>NaN</td>\n",
       "      <td>NaN</td>\n",
       "      <td>1.0</td>\n",
       "      <td>2</td>\n",
       "      <td>PEMEX</td>\n",
       "    </tr>\n",
       "    <tr>\n",
       "      <th>1</th>\n",
       "      <td>000003/2016</td>\n",
       "      <td>2018-08-17</td>\n",
       "      <td>CIRILO VICTORIA RODRIGUEZ</td>\n",
       "      <td>ORGANO INTERNO DE CONTROL</td>\n",
       "      <td>INSTITUTO NACIONAL DE PEDIATRIA</td>\n",
       "      <td>INHABILITACION                                ...</td>\n",
       "      <td>2018-08-31</td>\n",
       "      <td>2023-08-31</td>\n",
       "      <td>NaN</td>\n",
       "      <td>NaN</td>\n",
       "      <td>...</td>\n",
       "      <td>NaN</td>\n",
       "      <td>NaN</td>\n",
       "      <td>NaN</td>\n",
       "      <td>NaN</td>\n",
       "      <td>NaN</td>\n",
       "      <td>NaN</td>\n",
       "      <td>NaN</td>\n",
       "      <td>1.0</td>\n",
       "      <td>6</td>\n",
       "      <td>INSTITUTOS</td>\n",
       "    </tr>\n",
       "    <tr>\n",
       "      <th>2</th>\n",
       "      <td>000003/2016</td>\n",
       "      <td>2018-08-17</td>\n",
       "      <td>GABRIEL DELGADO VALDIVIESO</td>\n",
       "      <td>ORGANO INTERNO DE CONTROL</td>\n",
       "      <td>INSTITUTO NACIONAL DE PEDIATRIA</td>\n",
       "      <td>INHABILITACION                                ...</td>\n",
       "      <td>2018-08-29</td>\n",
       "      <td>2023-08-29</td>\n",
       "      <td>NaN</td>\n",
       "      <td>NaN</td>\n",
       "      <td>...</td>\n",
       "      <td>NaN</td>\n",
       "      <td>NaN</td>\n",
       "      <td>NaN</td>\n",
       "      <td>NaN</td>\n",
       "      <td>NaN</td>\n",
       "      <td>NaN</td>\n",
       "      <td>NaN</td>\n",
       "      <td>1.0</td>\n",
       "      <td>6</td>\n",
       "      <td>INSTITUTOS</td>\n",
       "    </tr>\n",
       "    <tr>\n",
       "      <th>3</th>\n",
       "      <td>000004/2017</td>\n",
       "      <td>2018-11-14</td>\n",
       "      <td>ROBERTO MANUEL REYES GRANADOS</td>\n",
       "      <td>ORGANO INTERNO DE CONTROL</td>\n",
       "      <td>TALLERES GRAFICOS DE MEXICO</td>\n",
       "      <td>INHABILITACION                                ...</td>\n",
       "      <td>2018-11-27</td>\n",
       "      <td>2028-11-27</td>\n",
       "      <td>NaN</td>\n",
       "      <td>NaN</td>\n",
       "      <td>...</td>\n",
       "      <td>NaN</td>\n",
       "      <td>NaN</td>\n",
       "      <td>NaN</td>\n",
       "      <td>NaN</td>\n",
       "      <td>NaN</td>\n",
       "      <td>NaN</td>\n",
       "      <td>NaN</td>\n",
       "      <td>1.0</td>\n",
       "      <td>11</td>\n",
       "      <td>OTROS</td>\n",
       "    </tr>\n",
       "    <tr>\n",
       "      <th>4</th>\n",
       "      <td>000004/2018</td>\n",
       "      <td>2018-09-07</td>\n",
       "      <td>NAYELY YOLOTZIN CEDILLO NAJERA</td>\n",
       "      <td>ORGANO INTERNO DE CONTROL</td>\n",
       "      <td>INSTITUTO NACIONAL DE CANCEROLOGIA</td>\n",
       "      <td>INHABILITACION                                ...</td>\n",
       "      <td>2018-09-07</td>\n",
       "      <td>2018-12-07</td>\n",
       "      <td>NaN</td>\n",
       "      <td>NaN</td>\n",
       "      <td>...</td>\n",
       "      <td>NaN</td>\n",
       "      <td>NaN</td>\n",
       "      <td>NaN</td>\n",
       "      <td>NaN</td>\n",
       "      <td>NaN</td>\n",
       "      <td>NaN</td>\n",
       "      <td>NaN</td>\n",
       "      <td>1.0</td>\n",
       "      <td>1</td>\n",
       "      <td>INSTITUTOS</td>\n",
       "    </tr>\n",
       "    <tr>\n",
       "      <th>5</th>\n",
       "      <td>000004/2018</td>\n",
       "      <td>2018-11-14</td>\n",
       "      <td>EDUARDO ARCINIEGA VAZQUEZ</td>\n",
       "      <td>ORGANO INTERNO DE CONTROL</td>\n",
       "      <td>CENTRO DE ENSENANZA TECNICA INDUSTRIAL</td>\n",
       "      <td>INHABILITACION                                ...</td>\n",
       "      <td>2018-11-15</td>\n",
       "      <td>2019-08-14</td>\n",
       "      <td>0.0</td>\n",
       "      <td>NaN</td>\n",
       "      <td>...</td>\n",
       "      <td>NaN</td>\n",
       "      <td>NaN</td>\n",
       "      <td>NaN</td>\n",
       "      <td>NaN</td>\n",
       "      <td>NaN</td>\n",
       "      <td>NaN</td>\n",
       "      <td>NaN</td>\n",
       "      <td>1.0</td>\n",
       "      <td>2</td>\n",
       "      <td>CENTROS</td>\n",
       "    </tr>\n",
       "    <tr>\n",
       "      <th>6</th>\n",
       "      <td>000005/2017</td>\n",
       "      <td>2018-09-21</td>\n",
       "      <td>EDUARDO ROMERO MONDRAGON</td>\n",
       "      <td>ORGANO INTERNO DE CONTROL</td>\n",
       "      <td>INSTITUTO MEXICANO DEL SEGURO SOCIAL (IMSS)</td>\n",
       "      <td>INHABILITACION                                ...</td>\n",
       "      <td>2018-09-26</td>\n",
       "      <td>2018-12-26</td>\n",
       "      <td>NaN</td>\n",
       "      <td>NaN</td>\n",
       "      <td>...</td>\n",
       "      <td>NaN</td>\n",
       "      <td>NaN</td>\n",
       "      <td>NaN</td>\n",
       "      <td>NaN</td>\n",
       "      <td>NaN</td>\n",
       "      <td>NaN</td>\n",
       "      <td>NaN</td>\n",
       "      <td>1.0</td>\n",
       "      <td>1</td>\n",
       "      <td>INSTITUTOS</td>\n",
       "    </tr>\n",
       "    <tr>\n",
       "      <th>7</th>\n",
       "      <td>000005/2017</td>\n",
       "      <td>2018-09-21</td>\n",
       "      <td>IRMA ESTELA CEDILLO CRUZ</td>\n",
       "      <td>ORGANO INTERNO DE CONTROL</td>\n",
       "      <td>INSTITUTO MEXICANO DEL SEGURO SOCIAL (IMSS)</td>\n",
       "      <td>INHABILITACION                                ...</td>\n",
       "      <td>2018-09-26</td>\n",
       "      <td>2018-12-26</td>\n",
       "      <td>NaN</td>\n",
       "      <td>NaN</td>\n",
       "      <td>...</td>\n",
       "      <td>NaN</td>\n",
       "      <td>NaN</td>\n",
       "      <td>NaN</td>\n",
       "      <td>NaN</td>\n",
       "      <td>NaN</td>\n",
       "      <td>NaN</td>\n",
       "      <td>NaN</td>\n",
       "      <td>1.0</td>\n",
       "      <td>1</td>\n",
       "      <td>INSTITUTOS</td>\n",
       "    </tr>\n",
       "  </tbody>\n",
       "</table>\n",
       "<p>8 rows × 31 columns</p>\n",
       "</div>"
      ],
      "text/plain": [
       "    expediente fechaderesolucin                  servidorpblico  \\\n",
       "0  000001/2018       2018-07-31           RAUL CARDOSO MONTILLA   \n",
       "1  000003/2016       2018-08-17       CIRILO VICTORIA RODRIGUEZ   \n",
       "2  000003/2016       2018-08-17      GABRIEL DELGADO VALDIVIESO   \n",
       "3  000004/2017       2018-11-14   ROBERTO MANUEL REYES GRANADOS   \n",
       "4  000004/2018       2018-09-07  NAYELY YOLOTZIN CEDILLO NAJERA   \n",
       "5  000004/2018       2018-11-14       EDUARDO ARCINIEGA VAZQUEZ   \n",
       "6  000005/2017       2018-09-21        EDUARDO ROMERO MONDRAGON   \n",
       "7  000005/2017       2018-09-21        IRMA ESTELA CEDILLO CRUZ   \n",
       "\n",
       "                   autoridad                                  dependencia  \\\n",
       "0  ORGANO INTERNO DE CONTROL              INSTITUTO MEXICANO DEL PETROLEO   \n",
       "1  ORGANO INTERNO DE CONTROL              INSTITUTO NACIONAL DE PEDIATRIA   \n",
       "2  ORGANO INTERNO DE CONTROL              INSTITUTO NACIONAL DE PEDIATRIA   \n",
       "3  ORGANO INTERNO DE CONTROL                  TALLERES GRAFICOS DE MEXICO   \n",
       "4  ORGANO INTERNO DE CONTROL           INSTITUTO NACIONAL DE CANCEROLOGIA   \n",
       "5  ORGANO INTERNO DE CONTROL       CENTRO DE ENSENANZA TECNICA INDUSTRIAL   \n",
       "6  ORGANO INTERNO DE CONTROL  INSTITUTO MEXICANO DEL SEGURO SOCIAL (IMSS)   \n",
       "7  ORGANO INTERNO DE CONTROL  INSTITUTO MEXICANO DEL SEGURO SOCIAL (IMSS)   \n",
       "\n",
       "                                      sancinimpuesta      inicio         fin  \\\n",
       "0  INHABILITACION                                ...  2018-08-02  2019-02-02   \n",
       "1  INHABILITACION                                ...  2018-08-31  2023-08-31   \n",
       "2  INHABILITACION                                ...  2018-08-29  2023-08-29   \n",
       "3  INHABILITACION                                ...  2018-11-27  2028-11-27   \n",
       "4  INHABILITACION                                ...  2018-09-07  2018-12-07   \n",
       "5  INHABILITACION                                ...  2018-11-15  2019-08-14   \n",
       "6  INHABILITACION                                ...  2018-09-26  2018-12-26   \n",
       "7  INHABILITACION                                ...  2018-09-26  2018-12-26   \n",
       "\n",
       "   monto  v11      ...      anio2011 anio2012 anio2013  anio2014  anio2015  \\\n",
       "0    NaN  NaN      ...           NaN      NaN      NaN       NaN       NaN   \n",
       "1    NaN  NaN      ...           NaN      NaN      NaN       NaN       NaN   \n",
       "2    NaN  NaN      ...           NaN      NaN      NaN       NaN       NaN   \n",
       "3    NaN  NaN      ...           NaN      NaN      NaN       NaN       NaN   \n",
       "4    NaN  NaN      ...           NaN      NaN      NaN       NaN       NaN   \n",
       "5    0.0  NaN      ...           NaN      NaN      NaN       NaN       NaN   \n",
       "6    NaN  NaN      ...           NaN      NaN      NaN       NaN       NaN   \n",
       "7    NaN  NaN      ...           NaN      NaN      NaN       NaN       NaN   \n",
       "\n",
       "   anio2016  anio2017 anio2018  duracion  dependencia2  \n",
       "0       NaN       NaN      1.0         2         PEMEX  \n",
       "1       NaN       NaN      1.0         6    INSTITUTOS  \n",
       "2       NaN       NaN      1.0         6    INSTITUTOS  \n",
       "3       NaN       NaN      1.0        11         OTROS  \n",
       "4       NaN       NaN      1.0         1    INSTITUTOS  \n",
       "5       NaN       NaN      1.0         2       CENTROS  \n",
       "6       NaN       NaN      1.0         1    INSTITUTOS  \n",
       "7       NaN       NaN      1.0         1    INSTITUTOS  \n",
       "\n",
       "[8 rows x 31 columns]"
      ]
     },
     "execution_count": 3,
     "metadata": {},
     "output_type": "execute_result"
    }
   ],
   "source": [
    "def openDataset_csv(filename):\n",
    "    try:\n",
    "        df = pd.read_csv(filename,encoding='latin1',\n",
    "                         error_bad_lines=False)\n",
    "        #df.drop(['sample', 'node1','node2','node3',\n",
    "        #         'node4','node5','node6','node7',\n",
    "        #         'index','Unnamed: 0'], axis = 1, inplace = True)\n",
    "        print(\"El dataset tiene {} muestras con {} atributos.\".format(*df.shape))\n",
    "        return df\n",
    "    except:\n",
    "        print(\"Dataset could not be loaded. Is the dataset missing?\")   \n",
    "\n",
    "df = openDataset_csv('./database.csv')\n",
    "df.head(8)"
   ]
  },
  {
   "cell_type": "markdown",
   "metadata": {},
   "source": [
    "# Demora en el proceso de las sanciones.\n",
    "\n",
    "\n",
    "## ¿Cuánto tiempo transcurre entre la fecha de resolución y la fecha de inicio?\n",
    "Se pretende encontrar un patrón o indicador que nos permita relacionar las dependencias, autoridades y servidores púlicos a través de que tanto se demora en iniciar una sanción."
   ]
  },
  {
   "cell_type": "markdown",
   "metadata": {},
   "source": [
    "Para analizar esa relación entre fechas se requiere ignorar aquellos campos que no contienen valor de fecha:"
   ]
  },
  {
   "cell_type": "code",
   "execution_count": 7,
   "metadata": {},
   "outputs": [],
   "source": [
    "from datetime import datetime\n",
    "\n",
    "df_tempo = df.loc[df['inicio']!='--']\n",
    "startDate=df_tempo['fechaderesolucin'].apply(lambda x: datetime.strptime(x, '%Y-%m-%d'))\n",
    "endDate=df_tempo['inicio'].apply(lambda x: datetime.strptime(x, '%Y-%m-%d'))\n",
    "\n",
    "df_tempo['DemoraSancion']=endDate-startDate"
   ]
  },
  {
   "cell_type": "markdown",
   "metadata": {},
   "source": [
    "Se han encontrado valores negativos. Suponemos que no puede ser plausible que exista una fecha de resolución menor a una fecha de inicio de la sanción, por lo que decidimos eliminar esos valores del análisis (mostrados en rojo en la siguiente gráfica)."
   ]
  },
  {
   "cell_type": "code",
   "execution_count": 13,
   "metadata": {},
   "outputs": [
    {
     "data": {
      "text/plain": [
       "(0, 10)"
      ]
     },
     "execution_count": 13,
     "metadata": {},
     "output_type": "execute_result"
    },
    {
     "data": {
      "image/png": "[encoded data removed]",
      "text/plain": [
       "<Figure size 432x288 with 1 Axes>"
      ]
     },
     "metadata": {},
     "output_type": "display_data"
    }
   ],
   "source": [
    "df_tempo.loc[df_tempo['DemoraSancion'].dt.days<0]['DemoraSancion'].dt.days.hist(bins=50,color='red')\n",
    "df_tempo.loc[df_tempo['DemoraSancion'].dt.days>0]['DemoraSancion'].dt.days.hist(bins=50,color='blue')\n",
    "plt.ylim(0,10)"
   ]
  },
  {
   "cell_type": "code",
   "execution_count": 15,
   "metadata": {
    "scrolled": false
   },
   "outputs": [
    {
     "name": "stdout",
     "output_type": "stream",
     "text": [
      "31 valores negativos\n"
     ]
    }
   ],
   "source": [
    "print(len(df_tempo.loc[df_tempo['DemoraSancion'].dt.days <0]),'valores negativos')"
   ]
  },
  {
   "cell_type": "markdown",
   "metadata": {},
   "source": [
    "Sobreescribiendo el dataset para quedarse únicamente con valoes positivos."
   ]
  },
  {
   "cell_type": "code",
   "execution_count": 16,
   "metadata": {},
   "outputs": [],
   "source": [
    "df_tempo =df_tempo.loc[df_tempo['DemoraSancion'].dt.days>=0]"
   ]
  },
  {
   "cell_type": "markdown",
   "metadata": {},
   "source": [
    "El siguiente paso es analizar los límites de la distribución"
   ]
  },
  {
   "cell_type": "code",
   "execution_count": 18,
   "metadata": {},
   "outputs": [
    {
     "name": "stdout",
     "output_type": "stream",
     "text": [
      "count                       2413\n",
      "mean     15 days 13:48:54.604227\n",
      "std      81 days 07:41:26.846614\n",
      "min              0 days 00:00:00\n",
      "25%              1 days 00:00:00\n",
      "50%              5 days 00:00:00\n",
      "75%             11 days 00:00:00\n",
      "max           1720 days 00:00:00\n",
      "Name: DemoraSancion, dtype: object\n"
     ]
    }
   ],
   "source": [
    "print(df_tempo['DemoraSancion'].describe())"
   ]
  },
  {
   "cell_type": "markdown",
   "metadata": {},
   "source": [
    "Esto asemeja una distribución asimétrica (con kurtosis), por lo que la estadística descriptiva se basará en parámetros rígidos, como la mediana y los percentiles"
   ]
  },
  {
   "cell_type": "code",
   "execution_count": 19,
   "metadata": {},
   "outputs": [
    {
     "data": {
      "text/plain": [
       "(0, 40)"
      ]
     },
     "execution_count": 19,
     "metadata": {},
     "output_type": "execute_result"
    },
    {
     "data": {
      "image/png": "[encoded data removed]",
      "text/plain": [
       "<Figure size 432x288 with 1 Axes>"
      ]
     },
     "metadata": {},
     "output_type": "display_data"
    }
   ],
   "source": [
    "df_tempo['DemoraSancion'].dt.days.hist(bins=50)\n",
    "plt.ylim(0,40)"
   ]
  },
  {
   "cell_type": "markdown",
   "metadata": {},
   "source": [
    "Analizando posibles outliers"
   ]
  },
  {
   "cell_type": "code",
   "execution_count": 21,
   "metadata": {},
   "outputs": [
    {
     "name": "stdout",
     "output_type": "stream",
     "text": [
      "15 days 00:00:00\n"
     ]
    }
   ],
   "source": [
    "IQR = df_tempo['DemoraSancion'].quantile(0.75) - df_tempo['DemoraSancion'].quantile(0.25)\n",
    "IQR_1_5 = IQR + IQR/2\n",
    "print(IQR_1_5)"
   ]
  },
  {
   "cell_type": "markdown",
   "metadata": {},
   "source": [
    "A partir del IQR 1.5 se puede separar entre outliers y valores \"normales\" de la resta entre fecha de resolucion y fecha inicial, que en este caso son valores superiores a los 15 días.\n",
    "\n",
    "Se van a separar los datasets de datos normales y outliers. Podrían requerirse para un análisis posterior."
   ]
  },
  {
   "cell_type": "code",
   "execution_count": 22,
   "metadata": {},
   "outputs": [],
   "source": [
    "df_normalResolucionInicial = df_tempo.loc[df_tempo['DemoraSancion'].dt.days<=15]\n",
    "df_outliersResolucionInicial = df_tempo.loc[df_tempo['DemoraSancion'].dt.days>15]"
   ]
  },
  {
   "cell_type": "markdown",
   "metadata": {},
   "source": [
    "Es posible visualizar si existen diferencias entre los outliers y los datos normales"
   ]
  },
  {
   "cell_type": "code",
   "execution_count": 26,
   "metadata": {},
   "outputs": [
    {
     "name": "stdout",
     "output_type": "stream",
     "text": [
      "autoridad\n",
      "ORGANO INTERNO DE CONTROL    247\n",
      "dtype: int64\n",
      "***********\n",
      "causa_clean\n",
      "NEGLIGENCIA ADMINISTRATIVA                                172\n",
      "VIOLACION LEYES Y NORMATIVIDAD                             21\n",
      "ABUSO DE AUTORIDAD                                         16\n",
      "COHECHO O EXTORSION                                        13\n",
      "INCUMPLIMIENTO EN DECLARACION DE SITUACION PATRIMONIAL     12\n",
      "VIOLACION PROCEDIMIENTOS DE CONTRATACION                    8\n",
      "OTRAS                                                       3\n",
      "VIOLACIîN A LOS DERECHOS HUMANOS                            2\n",
      "dtype: int64\n",
      "******************\n",
      "dependencia\n",
      "SUPERISSSTE                                                                     22\n",
      "PREVENCION Y READAPTACION SOCIAL                                                21\n",
      "FIDEICOMISO FONDO NACIONAL DE HABITACIONES POPULARES                            20\n",
      "SECRETARIA DE MEDIO AMBIENTE Y RECURSOS NATURALES                               20\n",
      "COMISION FEDERAL DE ELECTRICIDAD                                                19\n",
      "TELECOMUNICACIONES DE MEXICO (TELECOMM)                                         12\n",
      "POLICIA FEDERAL                                                                 11\n",
      "BANCO NACIONAL DE OBRAS Y SERVICIOS PUBLICOS S.N.C                              11\n",
      "INSTITUTO DE SEGURIDAD Y SERVICIOS SOCIALES DE LOS TRABAJADO                     8\n",
      "DICONSA. S.A. DE C.V                                                             8\n",
      "COORDINACION NACIONAL DEL PROGRAMA DE DESARROLLO HUMANO OPORTUNIDADES            6\n",
      "INSTITUTO MEXICANO DEL SEGURO SOCIAL (IMSS)                                      6\n",
      "PROCURADURIA FEDERAL DEL CONSUMIDOR (PROFECO)                                    6\n",
      "LECHE INDUSTRIALIZADA CONASUPO S.A. DE C.V. (LICONSA)                            5\n",
      "INSTITUTO NACIONAL DE MIGRACION                                                  4\n",
      "COMISION PARA LA REGULARIZACION DE LA TENENCIA DE LA TIERRA                      4\n",
      "SECRETARIA DE EDUCACION PUBLICA                                                  4\n",
      "PEMEX EXPLORACION Y PRODUCCION                                                   3\n",
      "FONDO NACIONAL DE FOMENTO AL TURISMO Y EMPRESAS DE PARTICIPACIîN ACCIONARIA      3\n",
      "SECRETARIA DEL TRABAJO Y PREVISION SOCIAL                                        2\n",
      "AGROASEMEX S.A                                                                   2\n",
      "ADMINISTRACION PORTUARIA INTEGRAL DE TAMPICO S.A. DE C.V                         2\n",
      "COMISION NACIONAL FORESTAL                                                       2\n",
      "SECRETARIA DE AGRICULTURA, GANADERIA, DESARROLLO RURAL, PESCA Y ALIMENTACION     2\n",
      "SECRETARIA DE GOBERNACION                                                        2\n",
      "HOSPITAL REGIONAL DE ALTA ESPECIALIDAD DE CIUDAD VICTORIA                        2\n",
      "SECRETARIA DE LA DEFENSA NACIONAL                                                2\n",
      "INSTITUTO NACIONAL DE LAS PERSONAS ADULTAS MAYORES                               2\n",
      "INSTITUTO NACIONAL DE ESTADISTICA Y GEOGRAFIA                                    2\n",
      "SERVICIO DE ADMINISTRACION TRIBUTARIA                                            2\n",
      "                                                                                ..\n",
      "ADMINISTRACION PORTUARIA INTEGRAL DE TOPOLOBAMPO S.A. DE C.V                     1\n",
      "DELEGACIîN EN PEMEX LOGêSTICA                                                    1\n",
      "DELEGACIîN EN PEMEX EXPLORACIîN Y PRODUCCIîN                                     1\n",
      "CENTRO REGIONAL DE ALTA ESPECIALIDAD DE CHIAPAS                                  1\n",
      "FINANCIERA NACIONAL DE DESARROLLO AGROPECUARIO, RURAL, FORESTAL Y PESQUERO       1\n",
      "COMPAIA OPERADORA DEL CENTRO CULTURAL Y TURISTICO DE TIJUAN                     1\n",
      "COMISION NACIONAL PARA EL DESARROLLO DE LOS PUEBLOS INDIGENAS                    1\n",
      "CENTRO DE INVESTIGACION Y DE ESTUDIOS AVANZADOS DEL INSTITUT                     1\n",
      "COMISION NACIONAL DEL AGUA                                                       1\n",
      "TRIBUNAL ELECTORAL DEL PODER JUDICIAL DE LA FEDERACIîN                           1\n",
      "INSTITUTO NACIONAL DE INVESTIGACIONES FORESTALES, AGRICOLAS Y PECUARIAS          1\n",
      "FONDO DE CULTURA ECONOMICA                                                       1\n",
      "PETROLEOS MEXICANOS                                                              1\n",
      "TALLERES GRAFICOS DE MEXICO                                                      1\n",
      "SERVICIOS AEROPORTUARIOS DE LA CIUDAD DE MEXICO S.A. DE C.V.                     1\n",
      "SERVICIO NACIONAL DE SANIDAD. INOCUIDAD Y CALIDAD AGROALIMENTARIA                1\n",
      "SECRETARIA DE RELACIONES EXTERIORES                                              1\n",
      "PRONOSTICOS PARA LA ASISTENCIA PUBLICA                                           1\n",
      "PROCURADURIA GENERAL DE LA REPUBLICA                                             1\n",
      "PROCURADURIA AGRARIA                                                             1\n",
      "PEMEX REFINACION                                                                 1\n",
      "FONDO NACIONAL PARA EL FOMENTO DE LAS ARTESANIAS (FONART)                        1\n",
      "LUZ Y FUERZA DEL CENTRO EN LIQUIDACION                                           1\n",
      "INSTITUTO NACIONAL PARA LA EDUCACION DE LOS ADULTOS. (INEA)                      1\n",
      "INSTITUTO NACIONAL ELECTORAL (ANTES IFE)                                         1\n",
      "INSTITUTO NACIONAL DE ANTROPOLOGIA E HISTORIA                                    1\n",
      "HOSPITAL REGIONAL DE ALTA ESPECIALIDAD DE OAXACA                                 1\n",
      "HOSPITAL DE REGIONAL DE ALTA ESPECIALIDAD IXTAPALUCA                             1\n",
      "GOBIERNO DEL ESTADO DE PUEBLA                                                    1\n",
      "ADMINISTRACION FEDERAL DE SERVICIOS EDUCATIVOS EN EL DISTRITO FEDERAL            1\n",
      "Length: 61, dtype: int64\n"
     ]
    }
   ],
   "source": [
    "print(df_outliersResolucionInicial.groupby('autoridad').size().sort_values(ascending=False))\n",
    "print('***********')\n",
    "print(df_outliersResolucionInicial.groupby('causa_clean').size().sort_values(ascending=False))\n",
    "print('******************')\n",
    "print(df_outliersResolucionInicial.groupby('dependencia').size().sort_values(ascending=False))"
   ]
  },
  {
   "cell_type": "code",
   "execution_count": 30,
   "metadata": {},
   "outputs": [
    {
     "name": "stdout",
     "output_type": "stream",
     "text": [
      "autoridad\n",
      "ORGANO INTERNO DE CONTROL                                               2130\n",
      "DIRECCION GENERAL DE RESPONSABILIDADES Y SITUACION PATRIMONIAL (SFP)      27\n",
      "SFP (CONTRALORIA INTERNA)                                                  8\n",
      "SECRETARIA DE LA FUNCION PUBLICA                                           1\n",
      "dtype: int64\n",
      "***********\n",
      "causa_clean\n",
      "NEGLIGENCIA ADMINISTRATIVA                                   1239\n",
      "ABUSO DE AUTORIDAD                                            254\n",
      "INCUMPLIMIENTO EN DECLARACION DE SITUACION PATRIMONIAL        242\n",
      "VIOLACION LEYES Y NORMATIVIDAD                                151\n",
      "VIOLACION PROCEDIMIENTOS DE CONTRATACION                       99\n",
      "COHECHO O EXTORSION                                            84\n",
      "EJERCICIO INDEBIDO DE SUS FUNCIONES EN MATERIA MIGRATORIA      64\n",
      "OTRAS                                                          31\n",
      "VIOLACIîN A LOS DERECHOS HUMANOS                                2\n",
      "dtype: int64\n",
      "******************\n",
      "dependencia\n",
      "POLICIA FEDERAL                                                                 213\n",
      "INSTITUTO MEXICANO DEL SEGURO SOCIAL (IMSS)                                     150\n",
      "INSTITUTO NACIONAL DE MIGRACION                                                 116\n",
      "SECRETARIA DE EDUCACION PUBLICA                                                 116\n",
      "COMISION FEDERAL DE ELECTRICIDAD                                                103\n",
      "TELECOMUNICACIONES DE MEXICO (TELECOMM)                                         101\n",
      "ADMINISTRACION FEDERAL DE SERVICIOS EDUCATIVOS EN EL DISTRITO FEDERAL            82\n",
      "INSTITUTO DE SEGURIDAD Y SERVICIOS SOCIALES DE LOS TRABAJADO                     77\n",
      "FIDEICOMISO FONDO NACIONAL DE HABITACIONES POPULARES                             62\n",
      "SUPERISSSTE                                                                      62\n",
      "DICONSA. S.A. DE C.V                                                             54\n",
      "COORDINACION NACIONAL DEL PROGRAMA DE DESARROLLO HUMANO OPORTUNIDADES            46\n",
      "INSTITUTO NACIONAL DE LAS PERSONAS ADULTAS MAYORES                               41\n",
      "BANCO DEL AHORRO NACIONAL Y SERVICIOS FINANCIEROS  S.N.C.                        40\n",
      "SECRETARIA DE AGRICULTURA, GANADERIA, DESARROLLO RURAL, PESCA Y ALIMENTACION     34\n",
      "FONDO NACIONAL DE FOMENTO AL TURISMO Y EMPRESAS DE PARTICIPACIîN ACCIONARIA      32\n",
      "PREVENCION Y READAPTACION SOCIAL                                                 30\n",
      "INSTITUTO DEL FONDO NACIONAL PARA EL CONSUMO DE LOS TRABAJADORES                 29\n",
      "PROCURADURIA GENERAL DE LA REPUBLICA                                             27\n",
      "SECRETARIA DE MEDIO AMBIENTE Y RECURSOS NATURALES                                27\n",
      "SERVICIO DE ADMINISTRACION TRIBUTARIA                                            27\n",
      "UNIDAD DE RESPONSABILIDADES EN PETRîLEOS MEXICANOS                               24\n",
      "COMISION NACIONAL DEL AGUA                                                       23\n",
      "CAMINOS Y PUENTES FEDERALES DE INGRESOS Y SERVICIOS CONEXOS                      19\n",
      "COMISION NACIONAL PARA EL DESARROLLO DE LOS PUEBLOS INDIGENAS                    19\n",
      "ESTUDIOS CHURUBUSCO AZTECA S.A                                                   18\n",
      "PROCURADURIA FEDERAL DEL CONSUMIDOR (PROFECO)                                    16\n",
      "PEMEX REFINACION                                                                 16\n",
      "SECRETARIA DE DESARROLLO SOCIAL                                                  16\n",
      "COMISION NACIONAL FORESTAL                                                       16\n",
      "                                                                               ... \n",
      "AEROPUERTO INTERNACIONAL DE LA CIUDAD DE MEXICO S.A. DE C.V.                      1\n",
      "ADMINISTRACION PORTUARIA INTEGRAL DE TOPOLOBAMPO S.A. DE C.V                      1\n",
      "ADMINISTRACION PORTUARIA INTEGRAL DE MAZATLAN S.A. DE C.V                         1\n",
      "ADMINISTRACION PORTUARIA INTEGRAL DE ALTAMIRA                                     1\n",
      "NOTIMEX, AGENCIA DE NOTICIAS DEL ESTADO MEXICANO                                  1\n",
      "INSTITUTO MEXICANO DE LA JUVENTUD                                                 1\n",
      "COMISION DE OPERACION Y FOMENTO DE ACTIVIDADES ACADEMICAS DE                      1\n",
      "P.M.I. COMERCIO INTERNACIONAL S.A. DE C.V                                         1\n",
      "SECRETARIA DE ENERGIA                                                             1\n",
      "FIDEICOMISO FONDO NACIONAL DE FOMENTO EJIDAL                                      1\n",
      "SECRETARIA DE ECONOMIA (ANTES SECOFI)                                             1\n",
      "FINANCIERA NACIONAL DE DESARROLLO AGROPECUARIO, RURAL, FORESTAL Y PESQUERO        1\n",
      "FONDO DE GARANTIA Y FOMENTO PARA LA AGRICULTURA GANADERIA Y                       1\n",
      "CONSEJO NACIONAL PARA PREVENIR LA DISCRIMINACION (CONAPRED)                       1\n",
      "FONDO DE INFORMACION Y DOCUMENTACION PARA LA INDUSTRIA (INFO                      1\n",
      "CONSEJO NACIONAL DE FOMENTO EDUCATIVO                                             1\n",
      "GOBIERNO DEL ESTADO DE SINALOA                                                    1\n",
      "COMPAIA MEXICANA DE EXPLORACIONES S.A                                            1\n",
      "GRUPO AEROPORTUARIO DE LA CIUDAD DE MEXICO. S.A. DE C.V                           1\n",
      "PROCURADURIA DE LA DEFENSA DEL CONTRIBUYENTE                                      1\n",
      "SERVICIO DE ADMINISTRACION Y ENAJENACION DE BIENES                                1\n",
      "HOSPITAL INFANTIL DE MEXICO FEDERICO GOMEZ                                        1\n",
      "PRESIDENCIA DE LA REPUBLICA                                                       1\n",
      "COMISION NACIONAL DE HIDROCARBUROS                                                1\n",
      "PEMEX PETROQUIMICA                                                                1\n",
      "COMISION NACIONAL DE ARBITRAJE MEDICO                                             1\n",
      "INSTITUTO MEXICANO DE TECNOLOGIA DEL AGUA                                         1\n",
      "PATRONATO DE OBRAS E INSTALACIONES DEL INSTITUTO POLITECNICO                      1\n",
      "COMISION FEDERAL DE TELECOMUNICACIONES                                            1\n",
      "EL COLEGIO DE LA FRONTERA NORTE A.C                                               1\n",
      "Length: 167, dtype: int64\n"
     ]
    }
   ],
   "source": [
    "print(df_normalResolucionInicial.groupby('autoridad').size().sort_values(ascending=False))\n",
    "print('***********')\n",
    "print(df_normalResolucionInicial.groupby('causa_clean').size().sort_values(ascending=False))\n",
    "print('******************')\n",
    "print(df_normalResolucionInicial.groupby('dependencia').size().sort_values(ascending=False))"
   ]
  },
  {
   "cell_type": "markdown",
   "metadata": {},
   "source": [
    "Al parecer, cuando se considera la demora en la sanción, si hay diferencias casi notorias entre las dependencias. Por ejemploLa policía Federal y el IMSS son muy recurrentes en sanciones con una alta demora.\n",
    "\n",
    "Ahora vamos a ver que ocurre con la duración de las sensaciones"
   ]
  },
  {
   "cell_type": "markdown",
   "metadata": {},
   "source": [
    "# Duración de las sanciones.\n",
    "\n",
    "## ¿Cuánto tiempo transcurre entre la fecha de inicio y la fecha final de una sanción?\n",
    "\n",
    "A través de esta métrica propuesta se podrá indagar si hay sanciones que tardan demasiado en cumplirse, y como se comparan en relación con aquellos que no son tardadas."
   ]
  },
  {
   "cell_type": "code",
   "execution_count": 31,
   "metadata": {},
   "outputs": [],
   "source": [
    "startDate=df_tempo['inicio'].apply(lambda x: datetime.strptime(x, '%Y-%m-%d'))\n",
    "endDate=df_tempo['fin'].apply(lambda x: datetime.strptime(x, '%Y-%m-%d'))\n",
    "\n",
    "df_tempo['DuracionSancion']=endDate-startDate"
   ]
  },
  {
   "cell_type": "code",
   "execution_count": 32,
   "metadata": {},
   "outputs": [
    {
     "data": {
      "text/plain": [
       "(0, 200)"
      ]
     },
     "execution_count": 32,
     "metadata": {},
     "output_type": "execute_result"
    },
    {
     "data": {
      "image/png": "[encoded data removed]",
      "text/plain": [
       "<Figure size 432x288 with 1 Axes>"
      ]
     },
     "metadata": {},
     "output_type": "display_data"
    }
   ],
   "source": [
    "day2yrs = 1/365.2425\n",
    "df_tempo['DuracionSancion'].dt.days.hist(bins=70)\n",
    "plt.ylim(0,200)"
   ]
  },
  {
   "cell_type": "markdown",
   "metadata": {},
   "source": [
    "La distribución de este producto de un proceso de feature enginerrig nos muestra una distribución poco convencional.\n",
    "\n",
    "Es dudoso poder aseverar que una estadística descriptiva es capaz de captar tal complejidad (registros muy pronunciados, y alejados entre sí).\n",
    "\n",
    "Observemos su descripción estadística"
   ]
  },
  {
   "cell_type": "code",
   "execution_count": 34,
   "metadata": {},
   "outputs": [
    {
     "data": {
      "text/plain": [
       "count                         2413\n",
       "mean     2688 days 21:31:24.293410\n",
       "std      1618 days 04:15:08.336286\n",
       "min               90 days 00:00:00\n",
       "25%             1094 days 00:00:00\n",
       "50%             3649 days 00:00:00\n",
       "75%             3649 days 00:00:00\n",
       "max             7304 days 00:00:00\n",
       "Name: DuracionSancion, dtype: object"
      ]
     },
     "execution_count": 34,
     "metadata": {},
     "output_type": "execute_result"
    }
   ],
   "source": [
    "df_tempo['DuracionSancion'].describe()"
   ]
  },
  {
   "cell_type": "markdown",
   "metadata": {},
   "source": [
    "Algo que nos permite reafirmar que la descripción estadística no engloba semejante complejidad, es el hecho de que el Q3 y Q2 caen en el mismo número de días, por lo que habrá que buscar otra forma de proceder."
   ]
  },
  {
   "cell_type": "markdown",
   "metadata": {},
   "source": [
    "# Recency Analysis.\n",
    "\n",
    "A partir de las dos métricas creadas, se puede buscar si existe alguna relación entre lo que se demora una sanción en iniciarse, y lo que dura la sanción.\n",
    "\n",
    "Para ello hay que considerar que ambas distribuciones no son gaussianas, y sus valores distan mucho entre sí.\n",
    "\n",
    "Este problema podría abordarse bajo una transformación Boxcox o Yeo-Johnson. Sin embargo, por cuestiones de tiempo, haremos una aproximación más sencilla y más fácil de comprender.\n",
    "\n",
    "Vamos a proyectar cada feature nueva en una transformación basada en sus quintiles (dividir su distribución en 5 percentiles, o Q5i para referecirse al i-ésimo quintil); de esta manera tendremos una distribución acotada entre 0 y 1, y segmentada en 5 partes. Cada parte nos dará un indicio de que tan rápido o que tanto se tarda en concretarse una sanción, y que tanto se demora en iniciarse una sanción.\n",
    "\n",
    "Estas cinco categorías podemos clasificarlas, arbitrariamente bajo las siguientes etiquetas:\n",
    "- rápido: $Q5_1$\n",
    "- moderado: $Q5_2$\n",
    "- medio: $Q5_3$\n",
    "- lento: $Q5_4$\n",
    "- eterno: $Q5_5$\n",
    "\n",
    "Para esta trnsformación ocuparemos la función quantile_transform de la librería scikit learn"
   ]
  },
  {
   "cell_type": "code",
   "execution_count": 36,
   "metadata": {},
   "outputs": [],
   "source": [
    "import numpy as np\n",
    "from sklearn.preprocessing import quantile_transform\n",
    "X=df_tempo[['DuracionSancion','DemoraSancion']]\n",
    "X_transform=quantile_transform(X, n_quantiles=5, random_state=0)"
   ]
  },
  {
   "cell_type": "markdown",
   "metadata": {},
   "source": [
    "Esa transformación luce así:"
   ]
  },
  {
   "cell_type": "code",
   "execution_count": 40,
   "metadata": {},
   "outputs": [
    {
     "data": {
      "text/html": [
       "<div>\n",
       "<style scoped>\n",
       "    .dataframe tbody tr th:only-of-type {\n",
       "        vertical-align: middle;\n",
       "    }\n",
       "\n",
       "    .dataframe tbody tr th {\n",
       "        vertical-align: top;\n",
       "    }\n",
       "\n",
       "    .dataframe thead th {\n",
       "        text-align: right;\n",
       "    }\n",
       "</style>\n",
       "<table border=\"1\" class=\"dataframe\">\n",
       "  <thead>\n",
       "    <tr style=\"text-align: right;\">\n",
       "      <th></th>\n",
       "      <th>0</th>\n",
       "      <th>1</th>\n",
       "    </tr>\n",
       "  </thead>\n",
       "  <tbody>\n",
       "    <tr>\n",
       "      <th>count</th>\n",
       "      <td>2.413000e+03</td>\n",
       "      <td>2.413000e+03</td>\n",
       "    </tr>\n",
       "    <tr>\n",
       "      <th>mean</th>\n",
       "      <td>4.639073e-01</td>\n",
       "      <td>4.515979e-01</td>\n",
       "    </tr>\n",
       "    <tr>\n",
       "      <th>std</th>\n",
       "      <td>2.659662e-01</td>\n",
       "      <td>2.636645e-01</td>\n",
       "    </tr>\n",
       "    <tr>\n",
       "      <th>min</th>\n",
       "      <td>1.000000e-07</td>\n",
       "      <td>1.000000e-07</td>\n",
       "    </tr>\n",
       "    <tr>\n",
       "      <th>25%</th>\n",
       "      <td>2.500000e-01</td>\n",
       "      <td>2.500000e-01</td>\n",
       "    </tr>\n",
       "    <tr>\n",
       "      <th>50%</th>\n",
       "      <td>6.250000e-01</td>\n",
       "      <td>5.000000e-01</td>\n",
       "    </tr>\n",
       "    <tr>\n",
       "      <th>75%</th>\n",
       "      <td>6.250000e-01</td>\n",
       "      <td>7.500000e-01</td>\n",
       "    </tr>\n",
       "    <tr>\n",
       "      <th>max</th>\n",
       "      <td>9.999999e-01</td>\n",
       "      <td>9.999999e-01</td>\n",
       "    </tr>\n",
       "  </tbody>\n",
       "</table>\n",
       "</div>"
      ],
      "text/plain": [
       "                  0             1\n",
       "count  2.413000e+03  2.413000e+03\n",
       "mean   4.639073e-01  4.515979e-01\n",
       "std    2.659662e-01  2.636645e-01\n",
       "min    1.000000e-07  1.000000e-07\n",
       "25%    2.500000e-01  2.500000e-01\n",
       "50%    6.250000e-01  5.000000e-01\n",
       "75%    6.250000e-01  7.500000e-01\n",
       "max    9.999999e-01  9.999999e-01"
      ]
     },
     "execution_count": 40,
     "metadata": {},
     "output_type": "execute_result"
    }
   ],
   "source": [
    "pd.DataFrame(X_transform).describe()"
   ]
  },
  {
   "cell_type": "markdown",
   "metadata": {},
   "source": [
    "Echando un vistazo a ese plano, y el plano original tenemos:"
   ]
  },
  {
   "cell_type": "code",
   "execution_count": 53,
   "metadata": {},
   "outputs": [
    {
     "data": {
      "text/plain": [
       "Text(0,0.5,'Demora en inicio de sanción')"
      ]
     },
     "execution_count": 53,
     "metadata": {},
     "output_type": "execute_result"
    },
    {
     "data": {
      "image/png": "[encoded data removed]",
      "text/plain": [
       "<Figure size 576x288 with 2 Axes>"
      ]
     },
     "metadata": {},
     "output_type": "display_data"
    }
   ],
   "source": [
    "f, axarr = plt.subplots(1, 2,figsize=(8,4))\n",
    "axarr[0].scatter(X_transform[:,0],X_transform[:,1])\n",
    "axarr[0].set_title('Proyección')\n",
    "axarr[1].scatter(X.DuracionSancion,X.DemoraSancion)\n",
    "axarr[1].set_title('Original')\n",
    "plt.xlabel('Duración de sanción')\n",
    "plt.ylabel('Demora en inicio de sanción')"
   ]
  },
  {
   "cell_type": "markdown",
   "metadata": {},
   "source": [
    "Evidentemente, se aprecia que el plano proyectado tiene más estructura que el plano original. \n",
    "\n",
    "A continuación se convierten los quintiles en los buckets descritos anteriormente."
   ]
  },
  {
   "cell_type": "code",
   "execution_count": 54,
   "metadata": {},
   "outputs": [],
   "source": [
    "buckets=[-1,0.2,0.4,0.6,0.8,9999]\n",
    "labels = ['rápido','moderado','medio','lento','eterno']\n",
    "\n",
    "df_tempo['duración de sanción']=pd.cut(X_transform[:,0], buckets, labels=labels)\n",
    "df_tempo['demora en inicio de sanción']=pd.cut(X_transform[:,1], buckets, labels=labels)"
   ]
  },
  {
   "cell_type": "markdown",
   "metadata": {},
   "source": [
    "Se extrae y se analiza en tableau"
   ]
  },
  {
   "cell_type": "code",
   "execution_count": 55,
   "metadata": {},
   "outputs": [
    {
     "data": {
      "text/plain": [
       "Index(['expediente', 'fechaderesolucin', 'servidorpblico', 'autoridad',\n",
       "       'dependencia', 'sancinimpuesta', 'inicio', 'fin', 'monto', 'v11',\n",
       "       'cldx_fechaderesolucin', 'cldx_inicio', 'cldx_fin',\n",
       "       'year_cldx_fechaderesolucin', 'year_cldx_inicio', 'year_cldx_fin',\n",
       "       'cantidad', 'causa_clean', 'anio2008', 'anio2009', 'anio2010',\n",
       "       'anio2011', 'anio2012', 'anio2013', 'anio2014', 'anio2015', 'anio2016',\n",
       "       'anio2017', 'anio2018', 'duracion', 'dependencia2', 'DemoraSancion',\n",
       "       'DuracionSancion', 'duración de sanción',\n",
       "       'demora en inicio de sanción'],\n",
       "      dtype='object')"
      ]
     },
     "execution_count": 55,
     "metadata": {},
     "output_type": "execute_result"
    }
   ],
   "source": [
    "df_tempo.columns"
   ]
  },
  {
   "cell_type": "code",
   "execution_count": 56,
   "metadata": {},
   "outputs": [],
   "source": [
    "df_tempo.to_csv('C:\\\\Users\\\\mmolina\\\\OneDrive\\\\Documentos\\\\alchemsp3\\\\Curiosidades_data\\\\dataton anticorrupcion\\\\08_servidores_publicos_sancionados\\\\fechasEngineering_2.csv')"
   ]
  },
  {
   "cell_type": "markdown",
   "metadata": {},
   "source": [
    "# Creación del dashboard.\n",
    "Todavía se desconoce si se hará una especie de scrolling telling o dos dashboards independientes.\n",
    "\n",
    "La primera parte deberá resumir parte de la historia. Para mostrar el top de causas de sanciones tiene que ser algo codificado por tamaño o por área. Se explorará con burbujas o un treemap ![](img/sketch01.png \"sketch\")\n"
   ]
  },
  {
   "cell_type": "markdown",
   "metadata": {},
   "source": [
    "Para mejorar la interfaz y facilitar la manipulación de los datos se utilizará un tooltip que proyecte información exra, como las dependencias o los servidores públicos asociados con esas causas.\n",
    "\n",
    "Para aprovechar el par de medidas creadas en la etapa de feature engineering, se creará otro dashboard interactivo donde se pueda explorar que dependencias, y que servidores públicos, se asocian con sanciones que tengan ciertas características temporales. ![](img/sketch02.png \"sketch\")"
   ]
  },
  {
   "cell_type": "markdown",
   "metadata": {},
   "source": [
    "De esta manera, se podría averiguar que dependencias, así como servidores asociados a esas dependencias, están asociados con sanciones que tardaron poco en procesarse, así como en cumplirse; o cuales tardaron muy poco en procesarse, pero una eternidad en cumplirse. \n",
    "\n",
    "__Este proceso podría llevar a futuras investigaciones que, probablemente, podrían asociar esas diferencias temporales como algún factor asociado a la corrupción. ¿Porqué la media de la demora en sanciones es de 15 días?  ¿Qué hace ese tiempo se prolongué más tiempo? ¿Porqué algunas sanciones tardan menos en cumplirse? ¿Tendrá que ver la severidad de la sanción, o que el servidor público ejerce algún tipo de influencia? Esas son preguntas que pueden plantearse a manera de un estudio posterior a usar este dashboard.__\n",
    "\n",
    "Otra cosa que se está considerando al diseñarse el dashboard es el proceso de los \"visual queries\". Se pretende que el usuario no pierda tanto tiempo en comenzar a usar el dashboard y siga el movimiento natural, en forma de \"Z\", de los ojos. Para lograr esto se pretende jugar con la posición y el diseño. La parte principal deberá resaltar de alguna forma para que el usuario comience a observar y clickear desde ahí.\n",
    "![](img/sketch03.png \"sketch\")"
   ]
  },
  {
   "cell_type": "markdown",
   "metadata": {},
   "source": [
    "# Perspectivas.\n",
    "El dashboard pretende ser más del tipo exploratorio, por lo que se buscará empalmar los demás insights generados por el resto del equipo.\n",
    "\n",
    "La idea es llegar a juntar esos insights para tener un tablero exploratorio, una aplicación basada en scrolling telling que sea explicatoria."
   ]
  }
 ],
 "metadata": {
  "kernelspec": {
   "display_name": "Python 3",
   "language": "python",
   "name": "python3"
  },
  "language_info": {
   "codemirror_mode": {
    "name": "ipython",
    "version": 3
   },
   "file_extension": ".py",
   "mimetype": "text/x-python",
   "name": "python",
   "nbconvert_exporter": "python",
   "pygments_lexer": "ipython3",
   "version": "3.6.4"
  }
 },
 "nbformat": 4,
 "nbformat_minor": 2
}
