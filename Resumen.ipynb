# Los patitos

## Integrantes del equipo (nombres completos)
__Gina La Hera Fuentes, Gabriel Moyocoyani Molina Espíritu, Wayra Paz, Monserrat López__ 

Usuarios de twitter
@ginitabel, @moiyo, @wayra_paz, @MonLopez_

__Proyecto__: descripción BREVE del proyecto

__Sistema de monitoreo de sanciones a funcionarios públicos y a proveedores y contratistas.__ 
Hipótesis que pretenden validar
Qué pregunta o hipótesis buscan poder contestar por medio de la herramienta.

¿Cómo se comportan las sanciones tanto a servidores públicos como a proveedores y contratistas?

Proyecto: descripción técnica
### Menciona los aspectos técnicos que consideren más relevantes. Por ejemplo, ¿qué herramientas y tecnologías utilizaron (lenguajes, frameworks, APIs, sensores, microcontroladores), cómo se comunican entre sí.

El sistema permite visualizar el tiempo transcurrido desde la notificación de la sanción hasta la fecha de resolución, así como la duración de la misma. Además, permite visualizar el número de sanciones por servidor público y por proveedor y permite comparar en el tiempo la evolución de las sanciones.
Para analizar los datos utilizamos Stata, RStudio, Python, Jupiter y las librerías Numpy, Pandas, Matplotlib y Scikit-Learn. Para el desarrollo del dashboard utilizamos Tableau Public y Power BI. La prueba de concepto es versátil y puede comunicarse a través de distintos softwares, dependiendo de la disponibilidad de recursos del usuario o habilidades técnicas para el manejo de los mismos. 

### Cuales data sets del SESNA ocuparon

Utilizamos las bases de datos de Directorio de Proveedores y Contratistas sancionados (Dataset 04) y el Registro de servidores públicos sancionados (Dataset 08).

Puntos extras si los ponen por número, ej. 01, 05

### Que sugerencias de mejora tienes para los datasets con los que trabajaste

Proveedores y contratistas sancionados
Encontramos observaciones duplicadas, con números de expediente distintos, pero con montos y fechas iguales. Además, encontramos algunas observaciones desfasadas que tuvimos que desechar.
En cuanto a los montos, el valor reportado refiere al monto de la sanción económica, pero no hay manera de saber si la sanción ya fue ejercida.
Es relevante hacer la comparación con el total de proveedores registrados en cada institución para saber si el número de sanciones responde al número de proveedores.
Existen observaciones con ausencia de información, como hechos, fechas de notificación y resolución, y el nombre del responsable de la información.
Servidores públicos sancionados
Las variables no estaban homologadas
Encontramos datos implausibles. En algunas observaciones la fecha de la resolución no es consistente con la fecha de notificación (era menor la fecha de resolución)
Presencia de datos duplicados
Datos faltantes en montos

